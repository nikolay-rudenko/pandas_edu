{
 "cells": [
  {
   "cell_type": "code",
   "execution_count": 1,
   "id": "843c0703-ba9e-4681-a958-3686917ce660",
   "metadata": {},
   "outputs": [],
   "source": [
    "import pandas as pd"
   ]
  },
  {
   "cell_type": "markdown",
   "id": "fcaa1126-b90d-49c4-8161-6f16deb537d3",
   "metadata": {},
   "source": [
    "Create A Series Object from A Python List"
   ]
  },
  {
   "cell_type": "code",
   "execution_count": 2,
   "id": "f4dedb80-55f8-4132-8c1a-3bfaf6db319c",
   "metadata": {},
   "outputs": [
    {
     "data": {
      "text/plain": [
       "0     Chocolate\n",
       "1       Vanilla\n",
       "2    Strawberry\n",
       "3    Rum Raisin\n",
       "dtype: object"
      ]
     },
     "execution_count": 2,
     "metadata": {},
     "output_type": "execute_result"
    }
   ],
   "source": [
    "ice_cream = ['Chocolate', 'Vanilla', 'Strawberry', 'Rum Raisin']\n",
    "\n",
    "pd.Series(ice_cream)"
   ]
  },
  {
   "cell_type": "code",
   "execution_count": 3,
   "id": "2c593554-1b8a-41e6-b778-5fdea5921d9b",
   "metadata": {},
   "outputs": [
    {
     "data": {
      "text/plain": [
       "0     4\n",
       "1     8\n",
       "2    15\n",
       "3    16\n",
       "4    23\n",
       "5    42\n",
       "dtype: int64"
      ]
     },
     "execution_count": 3,
     "metadata": {},
     "output_type": "execute_result"
    }
   ],
   "source": [
    "lottery = [4, 8, 15, 16, 23, 42]\n",
    "\n",
    "pd.Series(lottery)"
   ]
  },
  {
   "cell_type": "code",
   "execution_count": 4,
   "id": "357bcdf2-dc24-49ec-892b-868dd87edc90",
   "metadata": {},
   "outputs": [
    {
     "data": {
      "text/plain": [
       "0     True\n",
       "1    False\n",
       "2    False\n",
       "3    False\n",
       "4     True\n",
       "dtype: bool"
      ]
     },
     "execution_count": 4,
     "metadata": {},
     "output_type": "execute_result"
    }
   ],
   "source": [
    "registration = [True, False, False, False, True]\n",
    "\n",
    "pd.Series(registration)"
   ]
  },
  {
   "cell_type": "markdown",
   "id": "37ace24c-70d9-433e-999e-114e9bc8eec6",
   "metadata": {},
   "source": [
    "Create A Series Object from a Dictionary"
   ]
  },
  {
   "cell_type": "code",
   "execution_count": 5,
   "id": "722c5685-e2ea-4c52-a252-460c2977e6da",
   "metadata": {},
   "outputs": [
    {
     "data": {
      "text/plain": [
       "Arstrad            An animal\n",
       "Banana     A delicious fruit\n",
       "cUcu                 A color\n",
       "dtype: object"
      ]
     },
     "execution_count": 5,
     "metadata": {},
     "output_type": "execute_result"
    }
   ],
   "source": [
    "webster = {'Arstrad' : 'An animal',\n",
    "          'Banana' : 'A delicious fruit',\n",
    "          'cUcu': 'A color'}\n",
    "\n",
    "pd.Series(webster)"
   ]
  },
  {
   "cell_type": "markdown",
   "id": "b2360b3d-1848-4897-829e-17d7d77852b3",
   "metadata": {},
   "source": [
    "Intro to Attributes "
   ]
  },
  {
   "cell_type": "code",
   "execution_count": 12,
   "id": "a677a2a7-b8b3-470f-9ebb-f2c9b8808057",
   "metadata": {},
   "outputs": [
    {
     "data": {
      "text/plain": [
       "0          Smart\n",
       "1    Intelligent\n",
       "2         Humble\n",
       "dtype: object"
      ]
     },
     "execution_count": 12,
     "metadata": {},
     "output_type": "execute_result"
    }
   ],
   "source": [
    "about_me = ['Smart', 'Intelligent', 'Humble']\n",
    "\n",
    "s = pd.Series(about_me)\n",
    "s"
   ]
  },
  {
   "cell_type": "code",
   "execution_count": 11,
   "id": "a7dd3fe9-4e92-4464-a845-6c313e05e74c",
   "metadata": {},
   "outputs": [
    {
     "data": {
      "text/plain": [
       "array(['Smart', 'Intelligent', 'Humble'], dtype=object)"
      ]
     },
     "execution_count": 11,
     "metadata": {},
     "output_type": "execute_result"
    }
   ],
   "source": [
    "s.values"
   ]
  },
  {
   "cell_type": "code",
   "execution_count": 13,
   "id": "b1f6231b-2064-4c12-8fef-ad452c861afb",
   "metadata": {},
   "outputs": [
    {
     "data": {
      "text/plain": [
       "RangeIndex(start=0, stop=3, step=1)"
      ]
     },
     "execution_count": 13,
     "metadata": {},
     "output_type": "execute_result"
    }
   ],
   "source": [
    "s.index"
   ]
  },
  {
   "cell_type": "code",
   "execution_count": 14,
   "id": "75fcd9b0-d098-4779-86ea-0e4260e3cc22",
   "metadata": {
    "tags": []
   },
   "outputs": [
    {
     "data": {
      "text/plain": [
       "dtype('O')"
      ]
     },
     "execution_count": 14,
     "metadata": {},
     "output_type": "execute_result"
    }
   ],
   "source": [
    "s.dtype"
   ]
  },
  {
   "cell_type": "markdown",
   "id": "a99c79dc-c44c-4f6a-8c26-4989f5d3a39c",
   "metadata": {},
   "source": [
    "Intro to Methods"
   ]
  },
  {
   "cell_type": "code",
   "execution_count": 19,
   "id": "6b28f1ec-b380-46b1-a175-367fe4efb678",
   "metadata": {},
   "outputs": [
    {
     "data": {
      "text/plain": [
       "0    2.99\n",
       "1    4.45\n",
       "2    1.36\n",
       "dtype: float64"
      ]
     },
     "execution_count": 19,
     "metadata": {},
     "output_type": "execute_result"
    }
   ],
   "source": [
    "prices = [2.99, 4.45, 1.36]\n",
    "s = pd.Series(prices)\n",
    "s"
   ]
  },
  {
   "cell_type": "code",
   "execution_count": 20,
   "id": "6cd3afc8-87b1-4438-9fd2-000f7b33169a",
   "metadata": {},
   "outputs": [
    {
     "data": {
      "text/plain": [
       "8.8"
      ]
     },
     "execution_count": 20,
     "metadata": {},
     "output_type": "execute_result"
    }
   ],
   "source": [
    "s.sum()"
   ]
  },
  {
   "cell_type": "code",
   "execution_count": 21,
   "id": "1dc6bb39-7cc3-455d-be7a-1deb068a9997",
   "metadata": {},
   "outputs": [
    {
     "data": {
      "text/plain": [
       "18.095480000000006"
      ]
     },
     "execution_count": 21,
     "metadata": {},
     "output_type": "execute_result"
    }
   ],
   "source": [
    "s.product()"
   ]
  },
  {
   "cell_type": "code",
   "execution_count": 22,
   "id": "4af24b1c-5601-4856-a6bb-d8810882a3cf",
   "metadata": {},
   "outputs": [
    {
     "data": {
      "text/plain": [
       "2.9333333333333336"
      ]
     },
     "execution_count": 22,
     "metadata": {},
     "output_type": "execute_result"
    }
   ],
   "source": [
    "s.mean()"
   ]
  },
  {
   "cell_type": "markdown",
   "id": "3f578fbd-cd0b-4fab-bdc0-4ddb7568d422",
   "metadata": {},
   "source": [
    "Parametrs and Arguments"
   ]
  },
  {
   "cell_type": "code",
   "execution_count": 27,
   "id": "16da6bcf-e7b9-4f94-8291-8771ce3d5d05",
   "metadata": {},
   "outputs": [
    {
     "data": {
      "text/plain": [
       "Monday          Apple\n",
       "Trursday       Orange\n",
       "Wednesday    Bluberry\n",
       "dtype: object"
      ]
     },
     "execution_count": 27,
     "metadata": {},
     "output_type": "execute_result"
    }
   ],
   "source": [
    "fruits = ['Apple', 'Orange', 'Bluberry']\n",
    "weekday = ['Monday', 'Trursday', 'Wednesday']\n",
    "\n",
    "pd.Series(fruits, weekday)\n",
    "\n",
    "# this is very common\n",
    "pd.Series(fruits, index = weekday)"
   ]
  },
  {
   "cell_type": "code",
   "execution_count": 28,
   "id": "c98f941c-6299-464c-9ae9-b3d420a33014",
   "metadata": {},
   "outputs": [
    {
     "data": {
      "text/plain": [
       "Monday           Apple\n",
       "Trursday        Orange\n",
       "Thursday    Watermelon\n",
       "dtype: object"
      ]
     },
     "execution_count": 28,
     "metadata": {},
     "output_type": "execute_result"
    }
   ],
   "source": [
    "fruits = ['Apple', 'Orange', 'Watermelon']\n",
    "weekday = ['Monday', 'Trursday', 'Thursday']\n",
    "\n",
    "pd.Series(data = fruits, index = weekday)"
   ]
  },
  {
   "cell_type": "code",
   "execution_count": null,
   "id": "d157bb17-df18-494b-8a94-42ae5bcbdc5a",
   "metadata": {},
   "outputs": [],
   "source": []
  },
  {
   "cell_type": "code",
   "execution_count": null,
   "id": "b5c3af9d-28ad-47c5-b144-a62bdf6f1dc3",
   "metadata": {},
   "outputs": [],
   "source": []
  }
 ],
 "metadata": {
  "kernelspec": {
   "display_name": "Python 3 (ipykernel)",
   "language": "python",
   "name": "python3"
  },
  "language_info": {
   "codemirror_mode": {
    "name": "ipython",
    "version": 3
   },
   "file_extension": ".py",
   "mimetype": "text/x-python",
   "name": "python",
   "nbconvert_exporter": "python",
   "pygments_lexer": "ipython3",
   "version": "3.9.2"
  }
 },
 "nbformat": 4,
 "nbformat_minor": 5
}
