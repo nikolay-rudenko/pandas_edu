{
 "cells": [
  {
   "cell_type": "code",
   "execution_count": 25,
   "id": "843c0703-ba9e-4681-a958-3686917ce660",
   "metadata": {},
   "outputs": [],
   "source": [
    "import pandas as pd\n"
   ]
  },
  {
   "cell_type": "markdown",
   "id": "fcaa1126-b90d-49c4-8161-6f16deb537d3",
   "metadata": {},
   "source": [
    "Create A Series Object from A Python List"
   ]
  },
  {
   "cell_type": "code",
   "execution_count": null,
   "id": "f4dedb80-55f8-4132-8c1a-3bfaf6db319c",
   "metadata": {},
   "outputs": [],
   "source": [
    "ice_cream = ['Chocolate', 'Vanilla', 'Strawberry', 'Rum Raisin']\n",
    "\n",
    "pd.Series(ice_cream)"
   ]
  },
  {
   "cell_type": "code",
   "execution_count": null,
   "id": "2c593554-1b8a-41e6-b778-5fdea5921d9b",
   "metadata": {},
   "outputs": [],
   "source": [
    "lottery = [4, 8, 15, 16, 23, 42]\n",
    "\n",
    "pd.Series(lottery)"
   ]
  },
  {
   "cell_type": "code",
   "execution_count": null,
   "id": "357bcdf2-dc24-49ec-892b-868dd87edc90",
   "metadata": {},
   "outputs": [],
   "source": [
    "registration = [True, False, False, False, True]\n",
    "\n",
    "pd.Series(registration)"
   ]
  },
  {
   "cell_type": "markdown",
   "id": "37ace24c-70d9-433e-999e-114e9bc8eec6",
   "metadata": {},
   "source": [
    "Create A Series Object from a Dictionary"
   ]
  },
  {
   "cell_type": "code",
   "execution_count": null,
   "id": "722c5685-e2ea-4c52-a252-460c2977e6da",
   "metadata": {},
   "outputs": [],
   "source": [
    "webster = {'Arstrad' : 'An animal',\n",
    "          'Banana' : 'A delicious fruit',\n",
    "          'cUcu': 'A color'}\n",
    "\n",
    "pd.Series(webster)"
   ]
  },
  {
   "cell_type": "markdown",
   "id": "b2360b3d-1848-4897-829e-17d7d77852b3",
   "metadata": {},
   "source": [
    "Intro to Attributes "
   ]
  },
  {
   "cell_type": "code",
   "execution_count": null,
   "id": "a677a2a7-b8b3-470f-9ebb-f2c9b8808057",
   "metadata": {},
   "outputs": [],
   "source": [
    "about_me = ['Smart', 'Intelligent', 'Humble']\n",
    "\n",
    "s = pd.Series(about_me)\n",
    "s"
   ]
  },
  {
   "cell_type": "code",
   "execution_count": null,
   "id": "a7dd3fe9-4e92-4464-a845-6c313e05e74c",
   "metadata": {},
   "outputs": [],
   "source": [
    "s.values"
   ]
  },
  {
   "cell_type": "code",
   "execution_count": null,
   "id": "b1f6231b-2064-4c12-8fef-ad452c861afb",
   "metadata": {},
   "outputs": [],
   "source": [
    "s.index"
   ]
  },
  {
   "cell_type": "code",
   "execution_count": null,
   "id": "75fcd9b0-d098-4779-86ea-0e4260e3cc22",
   "metadata": {
    "tags": []
   },
   "outputs": [],
   "source": [
    "s.dtype"
   ]
  },
  {
   "cell_type": "markdown",
   "id": "a99c79dc-c44c-4f6a-8c26-4989f5d3a39c",
   "metadata": {},
   "source": [
    "Intro to Methods"
   ]
  },
  {
   "cell_type": "code",
   "execution_count": null,
   "id": "6b28f1ec-b380-46b1-a175-367fe4efb678",
   "metadata": {},
   "outputs": [],
   "source": [
    "prices = [2.99, 4.45, 1.36]\n",
    "s = pd.Series(prices)\n",
    "s"
   ]
  },
  {
   "cell_type": "code",
   "execution_count": null,
   "id": "6cd3afc8-87b1-4438-9fd2-000f7b33169a",
   "metadata": {},
   "outputs": [],
   "source": [
    "s.sum()"
   ]
  },
  {
   "cell_type": "code",
   "execution_count": null,
   "id": "1dc6bb39-7cc3-455d-be7a-1deb068a9997",
   "metadata": {},
   "outputs": [],
   "source": [
    "s.product()"
   ]
  },
  {
   "cell_type": "code",
   "execution_count": null,
   "id": "4af24b1c-5601-4856-a6bb-d8810882a3cf",
   "metadata": {},
   "outputs": [],
   "source": [
    "s.mean()"
   ]
  },
  {
   "cell_type": "markdown",
   "id": "3f578fbd-cd0b-4fab-bdc0-4ddb7568d422",
   "metadata": {},
   "source": [
    "Parametrs and Arguments"
   ]
  },
  {
   "cell_type": "code",
   "execution_count": null,
   "id": "16da6bcf-e7b9-4f94-8291-8771ce3d5d05",
   "metadata": {},
   "outputs": [],
   "source": [
    "fruits = ['Apple', 'Orange', 'Bluberry']\n",
    "weekday = ['Monday', 'Trursday', 'Wednesday']\n",
    "\n",
    "pd.Series(fruits, weekday)\n",
    "\n",
    "# this is very common\n",
    "pd.Series(fruits, index = weekday)"
   ]
  },
  {
   "cell_type": "code",
   "execution_count": null,
   "id": "c98f941c-6299-464c-9ae9-b3d420a33014",
   "metadata": {},
   "outputs": [],
   "source": [
    "fruits = ['Apple', 'Orange', 'Watermelon']\n",
    "weekday = ['Monday', 'Trursday', 'Thursday']\n",
    "\n",
    "pd.Series(data = fruits, index = weekday)"
   ]
  },
  {
   "cell_type": "markdown",
   "id": "2f3e07f1-7162-4410-b968-74d24b063bd8",
   "metadata": {},
   "source": [
    "----------------------------------------------------"
   ]
  },
  {
   "cell_type": "markdown",
   "id": "a6e03c62-4f38-4f14-8e0b-da7a2640dc4e",
   "metadata": {},
   "source": [
    "Import Series with the read_csv Method"
   ]
  },
  {
   "cell_type": "code",
   "execution_count": null,
   "id": "b5e6b2a6-f7a3-416b-90c5-089a1d504bfd",
   "metadata": {},
   "outputs": [],
   "source": [
    "pokemon = pd.read_csv('pokemon.csv', usecols= ['Pokemon'], squeeze = True)"
   ]
  },
  {
   "cell_type": "code",
   "execution_count": null,
   "id": "188855ef-31b1-466f-bcf9-fe4928b58f0a",
   "metadata": {},
   "outputs": [],
   "source": [
    "pokemon"
   ]
  },
  {
   "cell_type": "code",
   "execution_count": null,
   "id": "ecddce57-daa6-488c-b965-c774a177f2b6",
   "metadata": {},
   "outputs": [],
   "source": [
    "google = pd.read_csv('google_stock_price.csv', usecols = ['Stock Price'], squeeze = True)\n",
    "google"
   ]
  },
  {
   "cell_type": "markdown",
   "id": "367f8611-aad4-492c-be73-bd98820bb506",
   "metadata": {},
   "source": [
    "The .head() and .tail() Methods"
   ]
  },
  {
   "cell_type": "code",
   "execution_count": null,
   "id": "ca1549f3-e501-42f9-9d3c-930034fa199c",
   "metadata": {},
   "outputs": [],
   "source": [
    "pokemon.head(8)\n",
    "# returning brend new series object "
   ]
  },
  {
   "cell_type": "code",
   "execution_count": null,
   "id": "f5e84426-4f72-4505-b816-49ca4787c4e8",
   "metadata": {},
   "outputs": [],
   "source": [
    "google.tail(8)"
   ]
  },
  {
   "cell_type": "markdown",
   "id": "728225bc-8e0e-4671-848e-c7de22ce5a8f",
   "metadata": {},
   "source": [
    "Python Built-In Function"
   ]
  },
  {
   "cell_type": "code",
   "execution_count": null,
   "id": "1060fdc5-88c4-4595-9a6b-9b7d7eca9249",
   "metadata": {},
   "outputs": [],
   "source": [
    "len(google)"
   ]
  },
  {
   "cell_type": "code",
   "execution_count": null,
   "id": "a340e89b-1549-4d0f-b1c4-9511e9da5be0",
   "metadata": {},
   "outputs": [],
   "source": [
    "type(google)"
   ]
  },
  {
   "cell_type": "code",
   "execution_count": null,
   "id": "0c990fd0-f377-4eb2-8ecb-346c8f27f267",
   "metadata": {},
   "outputs": [],
   "source": [
    "sorted(pokemon)"
   ]
  },
  {
   "cell_type": "code",
   "execution_count": null,
   "id": "ba0cdae9-ba30-4180-aa94-f1e675685a0c",
   "metadata": {},
   "outputs": [],
   "source": [
    "dict(google)"
   ]
  },
  {
   "cell_type": "code",
   "execution_count": null,
   "id": "7712faf0-32de-4be3-b9cc-6d89b239c093",
   "metadata": {},
   "outputs": [],
   "source": [
    "list(google)"
   ]
  },
  {
   "cell_type": "code",
   "execution_count": null,
   "id": "e2549fb8-b96c-4a95-b5eb-90011c83af4b",
   "metadata": {},
   "outputs": [],
   "source": [
    "max(pokemon)"
   ]
  },
  {
   "cell_type": "code",
   "execution_count": null,
   "id": "df17e87c-5802-44f5-9bf6-646151ab5942",
   "metadata": {},
   "outputs": [],
   "source": [
    "min(pokemon)"
   ]
  },
  {
   "cell_type": "code",
   "execution_count": null,
   "id": "ecaf0283-99b4-4b19-878d-39900be10045",
   "metadata": {},
   "outputs": [],
   "source": [
    "max(google)"
   ]
  },
  {
   "cell_type": "code",
   "execution_count": 1,
   "id": "02a6a8c7-aa12-4603-a361-67d4ba108f2c",
   "metadata": {},
   "outputs": [],
   "source": [
    "import pandas as pd\n",
    "pokemon = pd.read_csv('pokemon.csv', usecols= ['Pokemon'], squeeze = True)\n",
    "google = pd.read_csv('google_stock_price.csv', usecols = ['Stock Price'], squeeze = True)"
   ]
  },
  {
   "cell_type": "code",
   "execution_count": null,
   "id": "7487180c-ceb1-46e2-9044-3b4abd7c707c",
   "metadata": {},
   "outputs": [],
   "source": [
    "pokemon.values"
   ]
  },
  {
   "cell_type": "code",
   "execution_count": null,
   "id": "eac91d5e-46e7-4247-83a4-b33f349f6eea",
   "metadata": {},
   "outputs": [],
   "source": [
    "google.index"
   ]
  },
  {
   "cell_type": "code",
   "execution_count": null,
   "id": "dff25138-262c-4a01-97f0-fcee63441963",
   "metadata": {},
   "outputs": [],
   "source": [
    "pokemon.dtype\n",
    "google.dtype"
   ]
  },
  {
   "cell_type": "code",
   "execution_count": null,
   "id": "c4589e64-2a61-4411-84cb-db023a80cf1d",
   "metadata": {},
   "outputs": [],
   "source": [
    "pokemon.is_unique"
   ]
  },
  {
   "cell_type": "code",
   "execution_count": null,
   "id": "1e497744-3533-4ffb-a05d-0be1150cd90d",
   "metadata": {},
   "outputs": [],
   "source": [
    "pokemon.ndim\n",
    "google.ndim"
   ]
  },
  {
   "cell_type": "code",
   "execution_count": null,
   "id": "011e9c8c-5954-4928-8aac-1655fca4a3f9",
   "metadata": {},
   "outputs": [],
   "source": [
    "pokemon.shape"
   ]
  },
  {
   "cell_type": "code",
   "execution_count": null,
   "id": "817e4d34-29c6-4aea-b466-ab6935064216",
   "metadata": {},
   "outputs": [],
   "source": [
    "google.size"
   ]
  },
  {
   "cell_type": "code",
   "execution_count": null,
   "id": "f5766bb9-f858-4d33-8a08-5cc182a850d2",
   "metadata": {},
   "outputs": [],
   "source": [
    "google.name"
   ]
  },
  {
   "cell_type": "code",
   "execution_count": null,
   "id": "298e2db0-7d41-41af-ad3c-704dbf7b5d50",
   "metadata": {},
   "outputs": [],
   "source": [
    "pokemon.name = 'Pocketmons'"
   ]
  },
  {
   "cell_type": "code",
   "execution_count": null,
   "id": "a617fd76-e0cf-42f4-a422-91df5336007a",
   "metadata": {},
   "outputs": [],
   "source": [
    "pokemon.head()"
   ]
  },
  {
   "cell_type": "markdown",
   "id": "de3a3f2b-0bb8-4f17-bac4-f30c6028e43c",
   "metadata": {},
   "source": [
    "The .sort_values() Method"
   ]
  },
  {
   "cell_type": "code",
   "execution_count": null,
   "id": "25a9f871-b8fa-4904-9112-6a0d9515c3e4",
   "metadata": {},
   "outputs": [],
   "source": [
    "pokemon.sort_values().head() # values will be in alphabetical order"
   ]
  },
  {
   "cell_type": "code",
   "execution_count": null,
   "id": "3148349a-a4db-4cd0-9324-322c98550a50",
   "metadata": {},
   "outputs": [],
   "source": [
    "pokemon.sort_values(ascending=False).head()"
   ]
  },
  {
   "cell_type": "code",
   "execution_count": null,
   "id": "df3bb0a1-e2d9-4686-b6b0-3cef371a4f3e",
   "metadata": {},
   "outputs": [],
   "source": [
    "google.sort_values(ascending=False).head()"
   ]
  },
  {
   "cell_type": "code",
   "execution_count": null,
   "id": "e097b133-5d5d-4bf2-9d3f-b2d2c2c12329",
   "metadata": {},
   "outputs": [],
   "source": [
    "google.head(1)"
   ]
  },
  {
   "cell_type": "markdown",
   "id": "a9e77d27-58ce-4589-adb9-27a496f62b05",
   "metadata": {},
   "source": [
    "sort_values is a method that not modify series, but returnign brend new object"
   ]
  },
  {
   "cell_type": "markdown",
   "id": "dc9a06cc-0e21-45b9-ba0c-2941452508e3",
   "metadata": {},
   "source": [
    "THE implace Parameter"
   ]
  },
  {
   "cell_type": "code",
   "execution_count": null,
   "id": "6a658e41-f4cd-4b5f-9f85-30e6023efd74",
   "metadata": {},
   "outputs": [],
   "source": [
    "google.head(3)"
   ]
  },
  {
   "cell_type": "code",
   "execution_count": null,
   "id": "2cbddd21-a27f-4786-985c-2d6ee51e15c6",
   "metadata": {},
   "outputs": [],
   "source": [
    "google = google.sort_values()"
   ]
  },
  {
   "cell_type": "code",
   "execution_count": null,
   "id": "a6f14e44-38e0-493c-90f8-29f7b0571196",
   "metadata": {},
   "outputs": [],
   "source": [
    "google.head(3)"
   ]
  },
  {
   "cell_type": "code",
   "execution_count": null,
   "id": "6e5288f8-ca6e-449d-9579-28896285095f",
   "metadata": {},
   "outputs": [],
   "source": [
    "google.sort_values(ascending=False, inplace=True)"
   ]
  },
  {
   "cell_type": "code",
   "execution_count": null,
   "id": "3b6cccd9-ffa5-4a60-9e08-19c98402f717",
   "metadata": {},
   "outputs": [],
   "source": [
    "google.head(3)"
   ]
  },
  {
   "cell_type": "markdown",
   "id": "9a870a3b-1a65-4742-b613-411170d997a4",
   "metadata": {},
   "source": [
    "The .sort_idex() Method"
   ]
  },
  {
   "cell_type": "code",
   "execution_count": 2,
   "id": "ef1f16f3-8db3-486d-9f26-0fb6bc1e230a",
   "metadata": {},
   "outputs": [
    {
     "data": {
      "text/plain": [
       "0    Bulbasaur\n",
       "1      Ivysaur\n",
       "2     Venusaur\n",
       "Name: Pokemon, dtype: object"
      ]
     },
     "execution_count": 2,
     "metadata": {},
     "output_type": "execute_result"
    }
   ],
   "source": [
    "pokemon.head(3)"
   ]
  },
  {
   "cell_type": "code",
   "execution_count": 4,
   "id": "d0ba658f-2e56-497c-9ec5-d85d9317ef88",
   "metadata": {},
   "outputs": [],
   "source": [
    "pokemon.sort_values(ascending = False, inplace = True)"
   ]
  },
  {
   "cell_type": "code",
   "execution_count": 11,
   "id": "d203d977-ab55-4879-9c71-778b24603e18",
   "metadata": {},
   "outputs": [
    {
     "data": {
      "text/plain": [
       "0    Bulbasaur\n",
       "1      Ivysaur\n",
       "2     Venusaur\n",
       "Name: Pokemon, dtype: object"
      ]
     },
     "execution_count": 11,
     "metadata": {},
     "output_type": "execute_result"
    }
   ],
   "source": [
    "pokemon.head(3)"
   ]
  },
  {
   "cell_type": "code",
   "execution_count": 10,
   "id": "28666b6a-ca36-4992-b029-b54b64000ad9",
   "metadata": {},
   "outputs": [],
   "source": [
    "pokemon.sort_index(ascending = True, inplace = True)"
   ]
  },
  {
   "cell_type": "markdown",
   "id": "074bc46e-931b-455b-b736-1dd60c5a6f25",
   "metadata": {},
   "source": [
    "---------------------------- Python in Keyword -----------------------"
   ]
  },
  {
   "cell_type": "code",
   "execution_count": 14,
   "id": "dcaf6116-44fb-4de4-bbe7-8c40ff31316f",
   "metadata": {},
   "outputs": [
    {
     "data": {
      "text/plain": [
       "True"
      ]
     },
     "execution_count": 14,
     "metadata": {},
     "output_type": "execute_result"
    }
   ],
   "source": [
    "3 in [1, 2, 3, 4, 5]"
   ]
  },
  {
   "cell_type": "code",
   "execution_count": 16,
   "id": "1ea2b37c-ba62-473f-ade1-d3ccc2c01df6",
   "metadata": {},
   "outputs": [
    {
     "data": {
      "text/plain": [
       "0    Bulbasaur\n",
       "1      Ivysaur\n",
       "2     Venusaur\n",
       "Name: Pokemon, dtype: object"
      ]
     },
     "execution_count": 16,
     "metadata": {},
     "output_type": "execute_result"
    }
   ],
   "source": [
    "pokemon.head(3)"
   ]
  },
  {
   "cell_type": "code",
   "execution_count": 17,
   "id": "f78edf49-0410-44aa-8e05-27b8b50535a6",
   "metadata": {},
   "outputs": [
    {
     "data": {
      "text/plain": [
       "Int64Index([  0,   1,   2,   3,   4,   5,   6,   7,   8,   9,\n",
       "            ...\n",
       "            711, 712, 713, 714, 715, 716, 717, 718, 719, 720],\n",
       "           dtype='int64', length=721)"
      ]
     },
     "execution_count": 17,
     "metadata": {},
     "output_type": "execute_result"
    }
   ],
   "source": [
    "pokemon.index"
   ]
  },
  {
   "cell_type": "code",
   "execution_count": 18,
   "id": "44bcff65-a947-4961-9230-a9f72cc77511",
   "metadata": {},
   "outputs": [
    {
     "data": {
      "text/plain": [
       "True"
      ]
     },
     "execution_count": 18,
     "metadata": {},
     "output_type": "execute_result"
    }
   ],
   "source": [
    "'Venusaur' in pokemon.values"
   ]
  },
  {
   "cell_type": "markdown",
   "id": "4e27efce-0b07-46cb-b16d-4cca6417cae3",
   "metadata": {},
   "source": [
    "----------------- Extract Values by Index Position -------------------"
   ]
  },
  {
   "cell_type": "code",
   "execution_count": 20,
   "id": "4d18bde0-a5bd-4cd1-a689-01adb4d83988",
   "metadata": {},
   "outputs": [
    {
     "data": {
      "text/plain": [
       "'Kricketot'"
      ]
     },
     "execution_count": 20,
     "metadata": {},
     "output_type": "execute_result"
    }
   ],
   "source": [
    "pokemon[400]"
   ]
  },
  {
   "cell_type": "code",
   "execution_count": 21,
   "id": "d3069016-bc1f-44a6-9d22-5fab05e49b19",
   "metadata": {},
   "outputs": [
    {
     "data": {
      "text/plain": [
       "100    Electrode\n",
       "200        Unown\n",
       "300     Delcatty\n",
       "Name: Pokemon, dtype: object"
      ]
     },
     "execution_count": 21,
     "metadata": {},
     "output_type": "execute_result"
    }
   ],
   "source": [
    "pokemon[ [100, 200, 300]]"
   ]
  },
  {
   "cell_type": "code",
   "execution_count": 23,
   "id": "08509bcc-7a84-4e0d-ba84-39eb28362f9c",
   "metadata": {},
   "outputs": [
    {
     "data": {
      "text/plain": [
       "333     Altaria\n",
       "334    Zangoose\n",
       "335     Seviper\n",
       "Name: Pokemon, dtype: object"
      ]
     },
     "execution_count": 23,
     "metadata": {},
     "output_type": "execute_result"
    }
   ],
   "source": [
    "pokemon[333:336]"
   ]
  },
  {
   "cell_type": "code",
   "execution_count": 25,
   "id": "edcf01ef-0f7d-452d-8320-e5c144ef5899",
   "metadata": {},
   "outputs": [
    {
     "data": {
      "text/plain": [
       "711     Bergmite\n",
       "712      Avalugg\n",
       "713       Noibat\n",
       "714      Noivern\n",
       "715      Xerneas\n",
       "716      Yveltal\n",
       "717      Zygarde\n",
       "718      Diancie\n",
       "719        Hoopa\n",
       "720    Volcanion\n",
       "Name: Pokemon, dtype: object"
      ]
     },
     "execution_count": 25,
     "metadata": {},
     "output_type": "execute_result"
    }
   ],
   "source": [
    "pokemon[-10:]"
   ]
  },
  {
   "cell_type": "code",
   "execution_count": 26,
   "id": "21c12b61-ee9a-45aa-a83e-f8c1337d9f84",
   "metadata": {},
   "outputs": [
    {
     "data": {
      "text/plain": [
       "Series([], Name: Pokemon, dtype: object)"
      ]
     },
     "execution_count": 26,
     "metadata": {},
     "output_type": "execute_result"
    }
   ],
   "source": [
    "pokemon[-10:-14]"
   ]
  },
  {
   "cell_type": "markdown",
   "id": "893fceeb-a9d9-4569-9ef8-e31f41296fb6",
   "metadata": {},
   "source": [
    "-------------------- Extract Values by Index Label -------------"
   ]
  },
  {
   "cell_type": "code",
   "execution_count": 31,
   "id": "7f12aae0-1536-4b8e-9ace-6714271780b8",
   "metadata": {},
   "outputs": [],
   "source": [
    "import pandas as pd\n",
    "pokemon = pd.read_csv('pokemon.csv', index_col = 'Pokemon',  squeeze = True)\n",
    "# google = pd.read_csv('google_stock_price.csv', usecols = ['Stock Price'], squeeze = True)"
   ]
  },
  {
   "cell_type": "code",
   "execution_count": 33,
   "id": "ba9dc7bb-4cef-4b9a-a91c-a2833171a203",
   "metadata": {},
   "outputs": [
    {
     "data": {
      "text/plain": [
       "Pokemon\n",
       "Bulbasaur    Grass\n",
       "Ivysaur      Grass\n",
       "Venusaur     Grass\n",
       "Name: Type, dtype: object"
      ]
     },
     "execution_count": 33,
     "metadata": {},
     "output_type": "execute_result"
    }
   ],
   "source": [
    "pokemon.head(3)"
   ]
  },
  {
   "cell_type": "code",
   "execution_count": 35,
   "id": "0d597405-5756-465a-8676-5b24418c47da",
   "metadata": {},
   "outputs": [
    {
     "data": {
      "text/plain": [
       "'Grass'"
      ]
     },
     "execution_count": 35,
     "metadata": {},
     "output_type": "execute_result"
    }
   ],
   "source": [
    "pokemon[0]"
   ]
  },
  {
   "cell_type": "code",
   "execution_count": 40,
   "id": "27296c33-016d-431c-8cc6-306e1f76290e",
   "metadata": {},
   "outputs": [
    {
     "data": {
      "text/plain": [
       "Pokemon\n",
       "Cubone     Ground\n",
       "Omanyte      Rock\n",
       "Name: Type, dtype: object"
      ]
     },
     "execution_count": 40,
     "metadata": {},
     "output_type": "execute_result"
    }
   ],
   "source": [
    "pokemon[[103, 137]]"
   ]
  },
  {
   "cell_type": "code",
   "execution_count": 38,
   "id": "8db242fd-b101-45a0-bdb7-91b1f2b5749e",
   "metadata": {},
   "outputs": [
    {
     "data": {
      "text/plain": [
       "'Electric'"
      ]
     },
     "execution_count": 38,
     "metadata": {},
     "output_type": "execute_result"
    }
   ],
   "source": [
    "pokemon['Jolteon']"
   ]
  },
  {
   "cell_type": "code",
   "execution_count": 43,
   "id": "9b274f08-4b53-4c4d-877a-6c3bba4df69d",
   "metadata": {},
   "outputs": [
    {
     "data": {
      "text/plain": [
       "Pokemon\n",
       "Jolteon    Electric\n",
       "Flareon        Fire\n",
       "Porygon      Normal\n",
       "Omanyte        Rock\n",
       "Name: Type, dtype: object"
      ]
     },
     "execution_count": 43,
     "metadata": {},
     "output_type": "execute_result"
    }
   ],
   "source": [
    "pokemon['Jolteon':'Omanyte']"
   ]
  },
  {
   "cell_type": "code",
   "execution_count": 44,
   "id": "1d8424f8-5547-48fe-8c4f-111e2a0463de",
   "metadata": {},
   "outputs": [
    {
     "data": {
      "text/plain": [
       "Pokemon\n",
       "Bulbasaur        Grass\n",
       "Ivysaur          Grass\n",
       "Venusaur         Grass\n",
       "Charmander        Fire\n",
       "Charmeleon        Fire\n",
       "                ...   \n",
       "Vaporeon         Water\n",
       "Jolteon       Electric\n",
       "Flareon           Fire\n",
       "Porygon         Normal\n",
       "Omanyte           Rock\n",
       "Name: Type, Length: 138, dtype: object"
      ]
     },
     "execution_count": 44,
     "metadata": {},
     "output_type": "execute_result"
    }
   ],
   "source": [
    "pokemon[:'Omanyte']"
   ]
  },
  {
   "cell_type": "code",
   "execution_count": 48,
   "id": "a8f2416b-55cf-45d8-b4b0-6a24a9d0923a",
   "metadata": {},
   "outputs": [
    {
     "data": {
      "text/plain": [
       "Pokemon\n",
       "Jolteon    Electric\n",
       "Porygon      Normal\n",
       "Name: Type, dtype: object"
      ]
     },
     "execution_count": 48,
     "metadata": {},
     "output_type": "execute_result"
    }
   ],
   "source": [
    "pokemon['Jolteon':'Omanyte':2]"
   ]
  },
  {
   "cell_type": "markdown",
   "id": "1a7534d0-481b-4a4e-b9cc-74cbb492ee8c",
   "metadata": {},
   "source": [
    "WORK WITH INDEX THAT NOT EXIST \n"
   ]
  },
  {
   "cell_type": "code",
   "execution_count": 49,
   "id": "c1292204-a253-4ee4-9780-e5e5faa113a6",
   "metadata": {},
   "outputs": [
    {
     "data": {
      "text/plain": [
       "Pokemon\n",
       "Jolteon    Electric\n",
       "Digest          NaN\n",
       "Name: Type, dtype: object"
      ]
     },
     "execution_count": 49,
     "metadata": {},
     "output_type": "execute_result"
    }
   ],
   "source": [
    "pokemon.reindex(index = ['Jolteon', 'Digest'])"
   ]
  },
  {
   "cell_type": "code",
   "execution_count": 1,
   "id": "21c9144d-5746-43a9-b333-ee15d2b8877e",
   "metadata": {},
   "outputs": [],
   "source": [
    "import pandas as pd\n",
    "pokemon = pd.read_csv('pokemon.csv', index_col = 'Pokemon',  squeeze = True)"
   ]
  },
  {
   "cell_type": "code",
   "execution_count": 3,
   "id": "b42ac99e-987b-4677-8df5-f49898056563",
   "metadata": {},
   "outputs": [
    {
     "data": {
      "text/plain": [
       "Pokemon\n",
       "Abomasnow      Grass\n",
       "Abra         Psychic\n",
       "Absol           Dark\n",
       "Name: Type, dtype: object"
      ]
     },
     "execution_count": 3,
     "metadata": {},
     "output_type": "execute_result"
    }
   ],
   "source": [
    "pokemon.sort_index(inplace=True)\n",
    "pokemon.head(3)"
   ]
  },
  {
   "cell_type": "code",
   "execution_count": 10,
   "id": "df31a413-bb01-49c0-b4fd-ca4875d44291",
   "metadata": {},
   "outputs": [
    {
     "data": {
      "text/plain": [
       "Pokemon\n",
       "Abomasnow      Grass\n",
       "Abra         Psychic\n",
       "Name: Type, dtype: object"
      ]
     },
     "execution_count": 10,
     "metadata": {},
     "output_type": "execute_result"
    }
   ],
   "source": [
    "pokemon.get([0, 1])"
   ]
  },
  {
   "cell_type": "code",
   "execution_count": 11,
   "id": "a7176db0-93c9-43cb-be26-109b4f325f54",
   "metadata": {},
   "outputs": [
    {
     "data": {
      "text/plain": [
       "Pokemon\n",
       "Abomasnow    Grass\n",
       "Absol         Dark\n",
       "Name: Type, dtype: object"
      ]
     },
     "execution_count": 11,
     "metadata": {},
     "output_type": "execute_result"
    }
   ],
   "source": [
    "pokemon.get(['Abomasnow', 'Absol'])"
   ]
  },
  {
   "cell_type": "code",
   "execution_count": 12,
   "id": "34308aec-a603-4da8-ae2d-87716260b076",
   "metadata": {},
   "outputs": [],
   "source": [
    "pokemon.get([1,2,3,4,1999])"
   ]
  },
  {
   "cell_type": "code",
   "execution_count": 14,
   "id": "8137eb4c-b5f5-491d-9d98-e1d4a84b98d4",
   "metadata": {},
   "outputs": [
    {
     "data": {
      "text/plain": [
       "'My string '"
      ]
     },
     "execution_count": 14,
     "metadata": {},
     "output_type": "execute_result"
    }
   ],
   "source": [
    "pokemon.get('Okk', default = 'My string ')"
   ]
  },
  {
   "cell_type": "markdown",
   "id": "4883aef4-b1b0-4e7c-94b3-aacc297844bd",
   "metadata": {},
   "source": [
    "------------------ Math Methods on Series Objects -----------------------"
   ]
  },
  {
   "cell_type": "code",
   "execution_count": 15,
   "id": "5ee5c9d1-6e3f-46fd-ac59-2c8d3e3c8396",
   "metadata": {},
   "outputs": [],
   "source": [
    "google = pd.read_csv('google_stock_price.csv', usecols = ['Stock Price'], squeeze = True)"
   ]
  },
  {
   "cell_type": "code",
   "execution_count": 17,
   "id": "e88b3eb0-2f2e-4388-9cb9-85bfb3c578e3",
   "metadata": {},
   "outputs": [
    {
     "data": {
      "text/plain": [
       "0    50.12\n",
       "1    54.10\n",
       "Name: Stock Price, dtype: float64"
      ]
     },
     "execution_count": 17,
     "metadata": {},
     "output_type": "execute_result"
    }
   ],
   "source": [
    "google.head(2)"
   ]
  },
  {
   "cell_type": "code",
   "execution_count": 18,
   "id": "63e2cff6-7c0f-4a6d-9380-bb1bde36a7e5",
   "metadata": {},
   "outputs": [
    {
     "data": {
      "text/plain": [
       "3012"
      ]
     },
     "execution_count": 18,
     "metadata": {},
     "output_type": "execute_result"
    }
   ],
   "source": [
    "google.count()"
   ]
  },
  {
   "cell_type": "code",
   "execution_count": 19,
   "id": "d985b192-235f-4ed7-9c5a-fe4b7ea76bcf",
   "metadata": {},
   "outputs": [
    {
     "data": {
      "text/plain": [
       "3012"
      ]
     },
     "execution_count": 19,
     "metadata": {},
     "output_type": "execute_result"
    }
   ],
   "source": [
    "len(google)"
   ]
  },
  {
   "cell_type": "code",
   "execution_count": 23,
   "id": "aa17bd9e-6d37-4fd7-8d1b-6d391f782b90",
   "metadata": {},
   "outputs": [
    {
     "data": {
      "text/plain": [
       "334.3100929614874"
      ]
     },
     "execution_count": 23,
     "metadata": {},
     "output_type": "execute_result"
    }
   ],
   "source": [
    "google.sum() / google.count()"
   ]
  },
  {
   "cell_type": "code",
   "execution_count": 22,
   "id": "00c69624-b21c-4799-b544-2fcea6293bbc",
   "metadata": {},
   "outputs": [
    {
     "data": {
      "text/plain": [
       "334.3100929614874"
      ]
     },
     "execution_count": 22,
     "metadata": {},
     "output_type": "execute_result"
    }
   ],
   "source": [
    "google.mean()"
   ]
  },
  {
   "cell_type": "code",
   "execution_count": 24,
   "id": "dea8e2bd-31ae-43d3-ad49-c62cc86b94ab",
   "metadata": {},
   "outputs": [
    {
     "data": {
      "text/plain": [
       "49.95"
      ]
     },
     "execution_count": 24,
     "metadata": {},
     "output_type": "execute_result"
    }
   ],
   "source": [
    "google.min()"
   ]
  },
  {
   "cell_type": "code",
   "execution_count": 26,
   "id": "6670cc16-f76e-4af4-9bd8-541461760866",
   "metadata": {},
   "outputs": [
    {
     "data": {
      "text/plain": [
       "782.22"
      ]
     },
     "execution_count": 26,
     "metadata": {},
     "output_type": "execute_result"
    }
   ],
   "source": [
    "google.max()"
   ]
  },
  {
   "cell_type": "code",
   "execution_count": 27,
   "id": "0c82ba13-68e1-4223-a241-225ca9ba4bf7",
   "metadata": {},
   "outputs": [
    {
     "data": {
      "text/plain": [
       "283.315"
      ]
     },
     "execution_count": 27,
     "metadata": {},
     "output_type": "execute_result"
    }
   ],
   "source": [
    "google.median()"
   ]
  },
  {
   "cell_type": "code",
   "execution_count": 29,
   "id": "25e0a3d6-ce48-4254-9896-675f0bb6ae86",
   "metadata": {},
   "outputs": [
    {
     "data": {
      "text/plain": [
       "0    291.21\n",
       "dtype: float64"
      ]
     },
     "execution_count": 29,
     "metadata": {},
     "output_type": "execute_result"
    }
   ],
   "source": [
    "google.mode()"
   ]
  },
  {
   "cell_type": "code",
   "execution_count": 31,
   "id": "4ee12c15-31ca-4ea9-9cd6-ec0e3a38afac",
   "metadata": {},
   "outputs": [
    {
     "data": {
      "text/plain": [
       "count    3012.000000\n",
       "mean      334.310093\n",
       "std       173.187205\n",
       "min        49.950000\n",
       "25%       218.045000\n",
       "50%       283.315000\n",
       "75%       443.000000\n",
       "max       782.220000\n",
       "Name: Stock Price, dtype: float64"
      ]
     },
     "execution_count": 31,
     "metadata": {},
     "output_type": "execute_result"
    }
   ],
   "source": [
    "google.describe()"
   ]
  },
  {
   "cell_type": "markdown",
   "id": "2e0d1570-c89e-4b2f-9e3a-10114df77ada",
   "metadata": {},
   "source": [
    "------------------------- The .idxmax() and .idxmin() Methods "
   ]
  },
  {
   "cell_type": "code",
   "execution_count": 32,
   "id": "95cabc5a-caa1-49df-a756-f3ce18201cd6",
   "metadata": {},
   "outputs": [
    {
     "data": {
      "text/plain": [
       "49.95"
      ]
     },
     "execution_count": 32,
     "metadata": {},
     "output_type": "execute_result"
    }
   ],
   "source": [
    "google.min()"
   ]
  },
  {
   "cell_type": "code",
   "execution_count": 33,
   "id": "9245787e-b33e-499a-8b57-7f9ae24a5630",
   "metadata": {},
   "outputs": [
    {
     "data": {
      "text/plain": [
       "782.22"
      ]
     },
     "execution_count": 33,
     "metadata": {},
     "output_type": "execute_result"
    }
   ],
   "source": [
    "google.max()"
   ]
  },
  {
   "cell_type": "code",
   "execution_count": 34,
   "id": "888f817e-e82d-48dc-9811-9424b67259a3",
   "metadata": {},
   "outputs": [
    {
     "data": {
      "text/plain": [
       "11"
      ]
     },
     "execution_count": 34,
     "metadata": {},
     "output_type": "execute_result"
    }
   ],
   "source": [
    "google.idxmin()"
   ]
  },
  {
   "cell_type": "code",
   "execution_count": 35,
   "id": "9295ed0f-1b9b-446f-b081-981ef2267a14",
   "metadata": {},
   "outputs": [
    {
     "data": {
      "text/plain": [
       "3011"
      ]
     },
     "execution_count": 35,
     "metadata": {},
     "output_type": "execute_result"
    }
   ],
   "source": [
    "google.idxmax()"
   ]
  },
  {
   "cell_type": "code",
   "execution_count": 37,
   "id": "4c6960fb-d2de-47d5-889f-9122e2eb614a",
   "metadata": {},
   "outputs": [
    {
     "data": {
      "text/plain": [
       "49.95"
      ]
     },
     "execution_count": 37,
     "metadata": {},
     "output_type": "execute_result"
    }
   ],
   "source": [
    "google[11]"
   ]
  },
  {
   "cell_type": "code",
   "execution_count": 38,
   "id": "f4746f6f-02c1-4d54-a110-94c17efb6959",
   "metadata": {},
   "outputs": [
    {
     "data": {
      "text/plain": [
       "782.22"
      ]
     },
     "execution_count": 38,
     "metadata": {},
     "output_type": "execute_result"
    }
   ],
   "source": [
    "google[3011]"
   ]
  },
  {
   "cell_type": "code",
   "execution_count": 40,
   "id": "e8a518cd-660c-4dbf-8468-babe19d7168a",
   "metadata": {},
   "outputs": [
    {
     "data": {
      "text/plain": [
       "49.95"
      ]
     },
     "execution_count": 40,
     "metadata": {},
     "output_type": "execute_result"
    }
   ],
   "source": [
    "google[google.idxmin()]"
   ]
  },
  {
   "cell_type": "code",
   "execution_count": 41,
   "id": "6397fe68-f5f3-413d-aa03-0a9987637980",
   "metadata": {},
   "outputs": [
    {
     "data": {
      "text/plain": [
       "782.22"
      ]
     },
     "execution_count": 41,
     "metadata": {},
     "output_type": "execute_result"
    }
   ],
   "source": [
    "google[google.idxmax()]"
   ]
  },
  {
   "cell_type": "markdown",
   "id": "0ec21d76-b920-45bc-8756-809f18ae00a5",
   "metadata": {},
   "source": [
    "---------------------- .value_coutns()"
   ]
  },
  {
   "cell_type": "code",
   "execution_count": 42,
   "id": "51ec35df-9c93-465b-9287-68a7b6095cd5",
   "metadata": {},
   "outputs": [
    {
     "data": {
      "text/plain": [
       "Pokemon\n",
       "Abomasnow      Grass\n",
       "Abra         Psychic\n",
       "Absol           Dark\n",
       "Name: Type, dtype: object"
      ]
     },
     "execution_count": 42,
     "metadata": {},
     "output_type": "execute_result"
    }
   ],
   "source": [
    "pokemon.head(3)"
   ]
  },
  {
   "cell_type": "code",
   "execution_count": 44,
   "id": "44ebae85-71e3-4322-a6cc-fc87b42dc20f",
   "metadata": {},
   "outputs": [
    {
     "data": {
      "text/plain": [
       "Water       105\n",
       "Normal       93\n",
       "Grass        66\n",
       "Bug          63\n",
       "Fire         47\n",
       "Psychic      47\n",
       "Rock         41\n",
       "Electric     36\n",
       "Ground       30\n",
       "Poison       28\n",
       "Dark         28\n",
       "Fighting     25\n",
       "Dragon       24\n",
       "Ice          23\n",
       "Ghost        23\n",
       "Steel        22\n",
       "Fairy        17\n",
       "Flying        3\n",
       "Name: Type, dtype: int64"
      ]
     },
     "execution_count": 44,
     "metadata": {},
     "output_type": "execute_result"
    }
   ],
   "source": [
    "pokemon.value_counts()"
   ]
  },
  {
   "cell_type": "code",
   "execution_count": 45,
   "id": "8da87162-a66a-4bcf-8da8-bc7ca3a7c4f2",
   "metadata": {},
   "outputs": [
    {
     "data": {
      "text/plain": [
       "721"
      ]
     },
     "execution_count": 45,
     "metadata": {},
     "output_type": "execute_result"
    }
   ],
   "source": [
    "pokemon.value_counts().sum()"
   ]
  },
  {
   "cell_type": "code",
   "execution_count": 46,
   "id": "4991a05a-6b58-4eef-94d2-05bbec27b4d2",
   "metadata": {},
   "outputs": [
    {
     "data": {
      "text/plain": [
       "Flying        3\n",
       "Fairy        17\n",
       "Steel        22\n",
       "Ghost        23\n",
       "Ice          23\n",
       "Dragon       24\n",
       "Fighting     25\n",
       "Poison       28\n",
       "Dark         28\n",
       "Ground       30\n",
       "Electric     36\n",
       "Rock         41\n",
       "Fire         47\n",
       "Psychic      47\n",
       "Bug          63\n",
       "Grass        66\n",
       "Normal       93\n",
       "Water       105\n",
       "Name: Type, dtype: int64"
      ]
     },
     "execution_count": 46,
     "metadata": {},
     "output_type": "execute_result"
    }
   ],
   "source": [
    "pokemon.value_counts(ascending = True)"
   ]
  },
  {
   "cell_type": "markdown",
   "id": "7000a515-3368-4aec-a72d-524d74a2bf3d",
   "metadata": {},
   "source": [
    "-------------------- .apply()"
   ]
  },
  {
   "cell_type": "code",
   "execution_count": 48,
   "id": "aadee025-7ed0-4617-a61f-0c8320d0d79d",
   "metadata": {},
   "outputs": [
    {
     "data": {
      "text/plain": [
       "0    50.12\n",
       "1    54.10\n",
       "2    54.65\n",
       "3    52.38\n",
       "4    52.95\n",
       "5    53.90\n",
       "Name: Stock Price, dtype: float64"
      ]
     },
     "execution_count": 48,
     "metadata": {},
     "output_type": "execute_result"
    }
   ],
   "source": [
    "google.head(6)"
   ]
  },
  {
   "cell_type": "code",
   "execution_count": 49,
   "id": "2902b3a1-6d97-441a-a5d6-4388cddd6e2a",
   "metadata": {},
   "outputs": [],
   "source": [
    "def classify_performance(number):\n",
    "    if number < 300:\n",
    "        return 'OK'\n",
    "    elif number >= 300 and number < 650:\n",
    "        return \"Satisfactory\"\n",
    "    else:\n",
    "        return \"Incrediable\""
   ]
  },
  {
   "cell_type": "code",
   "execution_count": 51,
   "id": "7eb2e05c-0560-43b4-999f-cd1d4419d387",
   "metadata": {},
   "outputs": [
    {
     "data": {
      "text/plain": [
       "3007    Incrediable\n",
       "3008    Incrediable\n",
       "3009    Incrediable\n",
       "3010    Incrediable\n",
       "3011    Incrediable\n",
       "Name: Stock Price, dtype: object"
      ]
     },
     "execution_count": 51,
     "metadata": {},
     "output_type": "execute_result"
    }
   ],
   "source": [
    "google.apply(classify_performance).tail()"
   ]
  },
  {
   "cell_type": "code",
   "execution_count": 52,
   "id": "a3321327-c1a6-4289-a1b7-7dd2cb4ba641",
   "metadata": {},
   "outputs": [
    {
     "data": {
      "text/plain": [
       "0    50.12\n",
       "1    54.10\n",
       "2    54.65\n",
       "3    52.38\n",
       "4    52.95\n",
       "5    53.90\n",
       "Name: Stock Price, dtype: float64"
      ]
     },
     "execution_count": 52,
     "metadata": {},
     "output_type": "execute_result"
    }
   ],
   "source": [
    "google.head(6)"
   ]
  },
  {
   "cell_type": "code",
   "execution_count": 55,
   "id": "6c512f72-a693-4970-afd7-056403d33ff9",
   "metadata": {},
   "outputs": [
    {
     "data": {
      "text/plain": [
       "0        51.12\n",
       "1        55.10\n",
       "2        55.65\n",
       "3        53.38\n",
       "4        53.95\n",
       "         ...  \n",
       "3007    773.88\n",
       "3008    772.07\n",
       "3009    774.18\n",
       "3010    772.61\n",
       "3011    783.22\n",
       "Name: Stock Price, Length: 3012, dtype: float64"
      ]
     },
     "execution_count": 55,
     "metadata": {},
     "output_type": "execute_result"
    }
   ],
   "source": [
    "google.apply(lambda stock_price: stock_price + 1)"
   ]
  },
  {
   "cell_type": "markdown",
   "id": "aa7e45c3-8675-4969-b788-b019b1d82d4a",
   "metadata": {},
   "source": [
    "The .map() Method"
   ]
  },
  {
   "cell_type": "code",
   "execution_count": 63,
   "id": "00fc66bb-b839-47c4-80cc-001d3e38e336",
   "metadata": {},
   "outputs": [],
   "source": [
    "import pandas as pd\n",
    "pokemon_names = pd.read_csv('pokemon.csv', usecols = ['Pokemon'],  squeeze = True)\n",
    "# google = pd.read_csv('google_stock_price.csv', usecols = ['Stock Price'], squeeze = True)"
   ]
  },
  {
   "cell_type": "code",
   "execution_count": 58,
   "id": "f5b19be2-61cc-4269-82d2-2db219776b14",
   "metadata": {},
   "outputs": [
    {
     "data": {
      "text/plain": [
       "0    Bulbasaur\n",
       "1      Ivysaur\n",
       "2     Venusaur\n",
       "Name: Pokemon, dtype: object"
      ]
     },
     "execution_count": 58,
     "metadata": {},
     "output_type": "execute_result"
    }
   ],
   "source": [
    "pokemon.head(3)"
   ]
  },
  {
   "cell_type": "code",
   "execution_count": 60,
   "id": "6367be5c-1b6b-48ee-811e-66bbbe0a95fe",
   "metadata": {},
   "outputs": [],
   "source": [
    "pokemon_types = pd.read_csv('pokemon.csv', index_col = 'Pokemon', squeeze = True)"
   ]
  },
  {
   "cell_type": "code",
   "execution_count": 61,
   "id": "e60efffa-b736-48c4-a2e4-67999b2e7576",
   "metadata": {},
   "outputs": [
    {
     "data": {
      "text/plain": [
       "Pokemon\n",
       "Bulbasaur    Grass\n",
       "Ivysaur      Grass\n",
       "Venusaur     Grass\n",
       "Name: Type, dtype: object"
      ]
     },
     "execution_count": 61,
     "metadata": {},
     "output_type": "execute_result"
    }
   ],
   "source": [
    "pokemon_types.head(3)"
   ]
  },
  {
   "cell_type": "code",
   "execution_count": 64,
   "id": "61723d3b-48a4-480c-b7fc-f346293edb3c",
   "metadata": {},
   "outputs": [
    {
     "data": {
      "text/plain": [
       "0        Grass\n",
       "1        Grass\n",
       "2        Grass\n",
       "3         Fire\n",
       "4         Fire\n",
       "        ...   \n",
       "716       Dark\n",
       "717     Dragon\n",
       "718       Rock\n",
       "719    Psychic\n",
       "720       Fire\n",
       "Name: Pokemon, Length: 721, dtype: object"
      ]
     },
     "execution_count": 64,
     "metadata": {},
     "output_type": "execute_result"
    }
   ],
   "source": [
    "pokemon_names.map(pokemon_types)"
   ]
  },
  {
   "cell_type": "code",
   "execution_count": 68,
   "id": "dde7a41d-f3d2-47e2-b996-a16ef407d879",
   "metadata": {},
   "outputs": [],
   "source": [
    "pokemon_names = pd.read_csv('pokemon.csv', usecols = ['Pokemon'],  squeeze = True)\n",
    "pokemon_types = pd.read_csv('pokemon.csv', index_col = 'Pokemon', squeeze = True).to_dict()"
   ]
  },
  {
   "cell_type": "code",
   "execution_count": 69,
   "id": "ef1df5e6-f158-4ac5-a311-a1209bba75da",
   "metadata": {},
   "outputs": [
    {
     "data": {
      "text/plain": [
       "0     Bulbasaur\n",
       "1       Ivysaur\n",
       "2      Venusaur\n",
       "3    Charmander\n",
       "4    Charmeleon\n",
       "Name: Pokemon, dtype: object"
      ]
     },
     "execution_count": 69,
     "metadata": {},
     "output_type": "execute_result"
    }
   ],
   "source": [
    "pokemon_names.head()"
   ]
  },
  {
   "cell_type": "code",
   "execution_count": 70,
   "id": "f5ebb0f7-195a-4c3e-b562-648142904938",
   "metadata": {},
   "outputs": [
    {
     "data": {
      "text/plain": [
       "dict"
      ]
     },
     "execution_count": 70,
     "metadata": {},
     "output_type": "execute_result"
    }
   ],
   "source": [
    "type(pokemon_types)"
   ]
  },
  {
   "cell_type": "code",
   "execution_count": 73,
   "id": "ba43305c-650e-410e-9668-d9a832c1b746",
   "metadata": {},
   "outputs": [
    {
     "data": {
      "text/plain": [
       "0        Grass\n",
       "1        Grass\n",
       "2        Grass\n",
       "3         Fire\n",
       "4         Fire\n",
       "        ...   \n",
       "716       Dark\n",
       "717     Dragon\n",
       "718       Rock\n",
       "719    Psychic\n",
       "720       Fire\n",
       "Name: Pokemon, Length: 721, dtype: object"
      ]
     },
     "execution_count": 73,
     "metadata": {},
     "output_type": "execute_result"
    }
   ],
   "source": [
    "pokemon_names.map(pokemon_types) # we pass dict like paramets "
   ]
  },
  {
   "cell_type": "code",
   "execution_count": 80,
   "id": "81c4cdbf-87c2-41eb-8936-6a7f4d08dde5",
   "metadata": {},
   "outputs": [
    {
     "data": {
      "text/plain": [
       "pandas.core.series.Series"
      ]
     },
     "execution_count": 80,
     "metadata": {},
     "output_type": "execute_result"
    }
   ],
   "source": [
    "pokemon_names = pd.read_csv('pokemon.csv', usecols = ['Pokemon'],  squeeze = True)\n",
    "pokemon_names.head(3)\n",
    "type(pokemon_names)"
   ]
  },
  {
   "cell_type": "code",
   "execution_count": 81,
   "id": "a37beee2-ba46-4fd8-869c-df9d5d53a5cd",
   "metadata": {},
   "outputs": [
    {
     "data": {
      "text/plain": [
       "pandas.core.frame.DataFrame"
      ]
     },
     "execution_count": 81,
     "metadata": {},
     "output_type": "execute_result"
    }
   ],
   "source": [
    "pokemon_names = pd.read_csv('pokemon.csv', usecols = ['Pokemon'],  squeeze = False)\n",
    "pokemon_names.head(3)\n",
    "type(pokemon_names)"
   ]
  },
  {
   "cell_type": "code",
   "execution_count": 82,
   "id": "00cd7cb6-98df-4f41-8e4e-d1ed8fee8191",
   "metadata": {},
   "outputs": [
    {
     "data": {
      "text/html": [
       "<div>\n",
       "<style scoped>\n",
       "    .dataframe tbody tr th:only-of-type {\n",
       "        vertical-align: middle;\n",
       "    }\n",
       "\n",
       "    .dataframe tbody tr th {\n",
       "        vertical-align: top;\n",
       "    }\n",
       "\n",
       "    .dataframe thead th {\n",
       "        text-align: right;\n",
       "    }\n",
       "</style>\n",
       "<table border=\"1\" class=\"dataframe\">\n",
       "  <thead>\n",
       "    <tr style=\"text-align: right;\">\n",
       "      <th></th>\n",
       "      <th>Pokemon</th>\n",
       "    </tr>\n",
       "  </thead>\n",
       "  <tbody>\n",
       "    <tr>\n",
       "      <th>0</th>\n",
       "      <td>Bulbasaur</td>\n",
       "    </tr>\n",
       "    <tr>\n",
       "      <th>1</th>\n",
       "      <td>Ivysaur</td>\n",
       "    </tr>\n",
       "    <tr>\n",
       "      <th>2</th>\n",
       "      <td>Venusaur</td>\n",
       "    </tr>\n",
       "    <tr>\n",
       "      <th>3</th>\n",
       "      <td>Charmander</td>\n",
       "    </tr>\n",
       "    <tr>\n",
       "      <th>4</th>\n",
       "      <td>Charmeleon</td>\n",
       "    </tr>\n",
       "  </tbody>\n",
       "</table>\n",
       "</div>"
      ],
      "text/plain": [
       "      Pokemon\n",
       "0   Bulbasaur\n",
       "1     Ivysaur\n",
       "2    Venusaur\n",
       "3  Charmander\n",
       "4  Charmeleon"
      ]
     },
     "execution_count": 82,
     "metadata": {},
     "output_type": "execute_result"
    }
   ],
   "source": [
    "pokemon_names.head()"
   ]
  }
 ],
 "metadata": {
  "kernelspec": {
   "display_name": "Python 3 (ipykernel)",
   "language": "python",
   "name": "python3"
  },
  "language_info": {
   "codemirror_mode": {
    "name": "ipython",
    "version": 3
   },
   "file_extension": ".py",
   "mimetype": "text/x-python",
   "name": "python",
   "nbconvert_exporter": "python",
   "pygments_lexer": "ipython3",
   "version": "3.9.2"
  }
 },
 "nbformat": 4,
 "nbformat_minor": 5
}
